{
 "cells": [
  {
   "cell_type": "markdown",
   "metadata": {},
   "source": [
    "# 2.1 크롤링"
   ]
  },
  {
   "cell_type": "markdown",
   "metadata": {},
   "source": [
    "[크롤링]"
   ]
  },
  {
   "cell_type": "code",
   "execution_count": null,
   "metadata": {},
   "outputs": [
    {
     "name": "stdout",
     "output_type": "stream",
     "text": [
      "url= : https://www.president.go.kr/584274\n",
      "url= : https://www.president.go.kr/584275\n",
      "url= : https://www.president.go.kr/584276\n",
      "url= : https://www.president.go.kr/584277\n",
      "url= : https://www.president.go.kr/584278\n",
      "url= : https://www.president.go.kr/584279\n",
      "url= : https://www.president.go.kr/584280\n",
      "Sleep 90seconds. Count:584280,  Local Time:2023-02-08 23:21:57,  Data Length:0\n",
      "url= : https://www.president.go.kr/584281\n",
      "url= : https://www.president.go.kr/584282\n",
      "url= : https://www.president.go.kr/584283\n",
      "url= : https://www.president.go.kr/584284\n",
      "url= : https://www.president.go.kr/584285\n",
      "url= : https://www.president.go.kr/584286\n",
      "url= : https://www.president.go.kr/584287\n",
      "url= : https://www.president.go.kr/584288\n",
      "url= : https://www.president.go.kr/584289\n",
      "url= : https://www.president.go.kr/584290\n",
      "url= : https://www.president.go.kr/584291\n",
      "url= : https://www.president.go.kr/584292\n",
      "url= : https://www.president.go.kr/584293\n",
      "url= : https://www.president.go.kr/584294\n",
      "url= : https://www.president.go.kr/584295\n",
      "url= : https://www.president.go.kr/584296\n",
      "url= : https://www.president.go.kr/584297\n",
      "url= : https://www.president.go.kr/584298\n",
      "url= : https://www.president.go.kr/584299\n",
      "url= : https://www.president.go.kr/584300\n",
      "url= : https://www.president.go.kr/584301\n",
      "url= : https://www.president.go.kr/584302\n",
      "url= : https://www.president.go.kr/584303\n",
      "url= : https://www.president.go.kr/584304\n",
      "url= : https://www.president.go.kr/584305\n",
      "url= : https://www.president.go.kr/584306\n",
      "url= : https://www.president.go.kr/584307\n",
      "url= : https://www.president.go.kr/584308\n",
      "url= : https://www.president.go.kr/584309\n",
      "url= : https://www.president.go.kr/584310\n",
      "url= : https://www.president.go.kr/584311\n",
      "url= : https://www.president.go.kr/584312\n",
      "url= : https://www.president.go.kr/584313\n",
      "url= : https://www.president.go.kr/584314\n",
      "url= : https://www.president.go.kr/584315\n",
      "url= : https://www.president.go.kr/584316\n",
      "url= : https://www.president.go.kr/584317\n",
      "url= : https://www.president.go.kr/584318\n",
      "url= : https://www.president.go.kr/584319\n",
      "url= : https://www.president.go.kr/584320\n",
      "url= : https://www.president.go.kr/584321\n",
      "url= : https://www.president.go.kr/584322\n",
      "url= : https://www.president.go.kr/584323\n",
      "url= : https://www.president.go.kr/584324\n",
      "url= : https://www.president.go.kr/584325\n",
      "url= : https://www.president.go.kr/584326\n",
      "url= : https://www.president.go.kr/584327\n",
      "url= : https://www.president.go.kr/584328\n",
      "url= : https://www.president.go.kr/584329\n",
      "url= : https://www.president.go.kr/584330\n",
      "url= : https://www.president.go.kr/584331\n",
      "url= : https://www.president.go.kr/584332\n",
      "url= : https://www.president.go.kr/584333\n",
      "url= : https://www.president.go.kr/584334\n",
      "url= : https://www.president.go.kr/584335\n",
      "url= : https://www.president.go.kr/584336\n",
      "url= : https://www.president.go.kr/584337\n",
      "url= : https://www.president.go.kr/584338\n",
      "url= : https://www.president.go.kr/584339\n",
      "url= : https://www.president.go.kr/584340\n",
      "Sleep 90seconds. Count:584340,  Local Time:2023-02-08 23:23:46,  Data Length:0\n",
      "url= : https://www.president.go.kr/584341\n",
      "url= : https://www.president.go.kr/584342\n",
      "url= : https://www.president.go.kr/584343\n",
      "url= : https://www.president.go.kr/584344\n",
      "url= : https://www.president.go.kr/584345\n",
      "url= : https://www.president.go.kr/584346\n",
      "url= : https://www.president.go.kr/584347\n",
      "url= : https://www.president.go.kr/584348\n",
      "url= : https://www.president.go.kr/584349\n",
      "url= : https://www.president.go.kr/584350\n",
      "url= : https://www.president.go.kr/584351\n",
      "url= : https://www.president.go.kr/584352\n",
      "url= : https://www.president.go.kr/584353\n",
      "url= : https://www.president.go.kr/584354\n",
      "url= : https://www.president.go.kr/584355\n",
      "url= : https://www.president.go.kr/584356\n",
      "url= : https://www.president.go.kr/584357\n",
      "url= : https://www.president.go.kr/584358\n",
      "url= : https://www.president.go.kr/584359\n",
      "url= : https://www.president.go.kr/584360\n",
      "url= : https://www.president.go.kr/584361\n",
      "url= : https://www.president.go.kr/584362\n",
      "url= : https://www.president.go.kr/584363\n",
      "url= : https://www.president.go.kr/584364\n",
      "url= : https://www.president.go.kr/584365\n",
      "url= : https://www.president.go.kr/584366\n",
      "url= : https://www.president.go.kr/584367\n",
      "url= : https://www.president.go.kr/584368\n",
      "url= : https://www.president.go.kr/584369\n",
      "url= : https://www.president.go.kr/584370\n",
      "url= : https://www.president.go.kr/584371\n",
      "url= : https://www.president.go.kr/584372\n",
      "url= : https://www.president.go.kr/584373\n",
      "url= : https://www.president.go.kr/584374\n",
      "url= : https://www.president.go.kr/584375\n",
      "url= : https://www.president.go.kr/584376\n",
      "url= : https://www.president.go.kr/584377\n",
      "url= : https://www.president.go.kr/584378\n",
      "url= : https://www.president.go.kr/584379\n",
      "url= : https://www.president.go.kr/584380\n",
      "url= : https://www.president.go.kr/584381\n",
      "url= : https://www.president.go.kr/584382\n",
      "url= : https://www.president.go.kr/584383\n",
      "url= : https://www.president.go.kr/584384\n",
      "url= : https://www.president.go.kr/584385\n",
      "url= : https://www.president.go.kr/584386\n",
      "url= : https://www.president.go.kr/584387\n",
      "url= : https://www.president.go.kr/584388\n",
      "url= : https://www.president.go.kr/584389\n",
      "url= : https://www.president.go.kr/584390\n",
      "url= : https://www.president.go.kr/584391\n",
      "url= : https://www.president.go.kr/584392\n",
      "url= : https://www.president.go.kr/584393\n",
      "url= : https://www.president.go.kr/584394\n",
      "url= : https://www.president.go.kr/584395\n",
      "url= : https://www.president.go.kr/584396\n",
      "url= : https://www.president.go.kr/584397\n",
      "url= : https://www.president.go.kr/584398\n",
      "url= : https://www.president.go.kr/584399\n",
      "url= : https://www.president.go.kr/584400\n",
      "Sleep 90seconds. Count:584400,  Local Time:2023-02-08 23:25:21,  Data Length:0\n",
      "url= : https://www.president.go.kr/584401\n",
      "url= : https://www.president.go.kr/584402\n",
      "url= : https://www.president.go.kr/584403\n",
      "url= : https://www.president.go.kr/584404\n",
      "url= : https://www.president.go.kr/584405\n",
      "url= : https://www.president.go.kr/584406\n",
      "url= : https://www.president.go.kr/584407\n",
      "url= : https://www.president.go.kr/584408\n",
      "url= : https://www.president.go.kr/584409\n",
      "url= : https://www.president.go.kr/584410\n",
      "url= : https://www.president.go.kr/584411\n",
      "url= : https://www.president.go.kr/584412\n",
      "url= : https://www.president.go.kr/584413\n",
      "url= : https://www.president.go.kr/584414\n",
      "url= : https://www.president.go.kr/584415\n",
      "url= : https://www.president.go.kr/584416\n",
      "url= : https://www.president.go.kr/584417\n",
      "url= : https://www.president.go.kr/584418\n",
      "url= : https://www.president.go.kr/584419\n",
      "url= : https://www.president.go.kr/584420\n",
      "url= : https://www.president.go.kr/584421\n",
      "url= : https://www.president.go.kr/584422\n",
      "url= : https://www.president.go.kr/584423\n",
      "url= : https://www.president.go.kr/584424\n",
      "url= : https://www.president.go.kr/584425\n",
      "url= : https://www.president.go.kr/584426\n",
      "url= : https://www.president.go.kr/584427\n",
      "url= : https://www.president.go.kr/584428\n",
      "url= : https://www.president.go.kr/584429\n",
      "url= : https://www.president.go.kr/584430\n",
      "url= : https://www.president.go.kr/584431\n",
      "url= : https://www.president.go.kr/584432\n",
      "url= : https://www.president.go.kr/584433\n",
      "url= : https://www.president.go.kr/584434\n",
      "url= : https://www.president.go.kr/584435\n",
      "url= : https://www.president.go.kr/584436\n",
      "url= : https://www.president.go.kr/584437\n",
      "url= : https://www.president.go.kr/584438\n",
      "url= : https://www.president.go.kr/584439\n",
      "url= : https://www.president.go.kr/584440\n",
      "url= : https://www.president.go.kr/584441\n",
      "url= : https://www.president.go.kr/584442\n",
      "url= : https://www.president.go.kr/584443\n",
      "url= : https://www.president.go.kr/584444\n",
      "url= : https://www.president.go.kr/584445\n",
      "url= : https://www.president.go.kr/584446\n",
      "url= : https://www.president.go.kr/584447\n",
      "url= : https://www.president.go.kr/584448\n",
      "url= : https://www.president.go.kr/584449\n",
      "url= : https://www.president.go.kr/584450\n",
      "url= : https://www.president.go.kr/584451\n",
      "url= : https://www.president.go.kr/584452\n",
      "url= : https://www.president.go.kr/584453\n",
      "url= : https://www.president.go.kr/584454\n",
      "url= : https://www.president.go.kr/584455\n",
      "url= : https://www.president.go.kr/584456\n",
      "url= : https://www.president.go.kr/584457\n",
      "url= : https://www.president.go.kr/584458\n",
      "url= : https://www.president.go.kr/584459\n",
      "url= : https://www.president.go.kr/584460\n",
      "Sleep 90seconds. Count:584460,  Local Time:2023-02-08 23:27:09,  Data Length:0\n",
      "url= : https://www.president.go.kr/584461\n",
      "url= : https://www.president.go.kr/584462\n"
     ]
    },
    {
     "name": "stdout",
     "output_type": "stream",
     "text": [
      "url= : https://www.president.go.kr/584463\n",
      "url= : https://www.president.go.kr/584464\n",
      "url= : https://www.president.go.kr/584465\n",
      "url= : https://www.president.go.kr/584466\n",
      "url= : https://www.president.go.kr/584467\n",
      "url= : https://www.president.go.kr/584468\n",
      "url= : https://www.president.go.kr/584469\n",
      "url= : https://www.president.go.kr/584470\n",
      "url= : https://www.president.go.kr/584471\n",
      "url= : https://www.president.go.kr/584472\n",
      "url= : https://www.president.go.kr/584473\n",
      "url= : https://www.president.go.kr/584474\n",
      "url= : https://www.president.go.kr/584475\n",
      "url= : https://www.president.go.kr/584476\n",
      "url= : https://www.president.go.kr/584477\n",
      "url= : https://www.president.go.kr/584478\n",
      "url= : https://www.president.go.kr/584479\n",
      "url= : https://www.president.go.kr/584480\n",
      "url= : https://www.president.go.kr/584481\n",
      "url= : https://www.president.go.kr/584482\n",
      "url= : https://www.president.go.kr/584483\n",
      "url= : https://www.president.go.kr/584484\n",
      "url= : https://www.president.go.kr/584485\n",
      "url= : https://www.president.go.kr/584486\n",
      "url= : https://www.president.go.kr/584487\n",
      "url= : https://www.president.go.kr/584488\n",
      "url= : https://www.president.go.kr/584489\n",
      "url= : https://www.president.go.kr/584490\n",
      "url= : https://www.president.go.kr/584491\n",
      "url= : https://www.president.go.kr/584492\n",
      "url= : https://www.president.go.kr/584493\n",
      "url= : https://www.president.go.kr/584494\n",
      "url= : https://www.president.go.kr/584495\n",
      "url= : https://www.president.go.kr/584496\n",
      "url= : https://www.president.go.kr/584497\n",
      "url= : https://www.president.go.kr/584498\n",
      "url= : https://www.president.go.kr/584499\n",
      "url= : https://www.president.go.kr/584500\n",
      "url= : https://www.president.go.kr/584501\n",
      "url= : https://www.president.go.kr/584502\n",
      "url= : https://www.president.go.kr/584503\n",
      "url= : https://www.president.go.kr/584504\n",
      "url= : https://www.president.go.kr/584505\n",
      "url= : https://www.president.go.kr/584506\n",
      "url= : https://www.president.go.kr/584507\n",
      "url= : https://www.president.go.kr/584508\n",
      "url= : https://www.president.go.kr/584509\n",
      "url= : https://www.president.go.kr/584510\n",
      "url= : https://www.president.go.kr/584511\n",
      "url= : https://www.president.go.kr/584512\n",
      "url= : https://www.president.go.kr/584513\n",
      "url= : https://www.president.go.kr/584514\n",
      "url= : https://www.president.go.kr/584515\n",
      "url= : https://www.president.go.kr/584516\n",
      "url= : https://www.president.go.kr/584517\n",
      "url= : https://www.president.go.kr/584518\n",
      "url= : https://www.president.go.kr/584519\n",
      "url= : https://www.president.go.kr/584520\n",
      "Sleep 90seconds. Count:584520,  Local Time:2023-02-08 23:28:44,  Data Length:0\n",
      "url= : https://www.president.go.kr/584521\n",
      "url= : https://www.president.go.kr/584522\n",
      "url= : https://www.president.go.kr/584523\n",
      "url= : https://www.president.go.kr/584524\n",
      "url= : https://www.president.go.kr/584525\n",
      "url= : https://www.president.go.kr/584526\n",
      "url= : https://www.president.go.kr/584527\n",
      "url= : https://www.president.go.kr/584528\n",
      "url= : https://www.president.go.kr/584529\n",
      "url= : https://www.president.go.kr/584530\n",
      "url= : https://www.president.go.kr/584531\n",
      "url= : https://www.president.go.kr/584532\n",
      "url= : https://www.president.go.kr/584533\n",
      "url= : https://www.president.go.kr/584534\n",
      "url= : https://www.president.go.kr/584535\n",
      "url= : https://www.president.go.kr/584536\n",
      "url= : https://www.president.go.kr/584537\n",
      "url= : https://www.president.go.kr/584538\n",
      "url= : https://www.president.go.kr/584539\n",
      "url= : https://www.president.go.kr/584540\n",
      "url= : https://www.president.go.kr/584541\n",
      "url= : https://www.president.go.kr/584542\n",
      "url= : https://www.president.go.kr/584543\n",
      "url= : https://www.president.go.kr/584544\n",
      "url= : https://www.president.go.kr/584545\n",
      "url= : https://www.president.go.kr/584546\n",
      "url= : https://www.president.go.kr/584547\n",
      "url= : https://www.president.go.kr/584548\n",
      "url= : https://www.president.go.kr/584549\n",
      "url= : https://www.president.go.kr/584550\n",
      "url= : https://www.president.go.kr/584551\n",
      "url= : https://www.president.go.kr/584552\n",
      "url= : https://www.president.go.kr/584553\n",
      "url= : https://www.president.go.kr/584554\n",
      "url= : https://www.president.go.kr/584555\n",
      "url= : https://www.president.go.kr/584556\n",
      "url= : https://www.president.go.kr/584557\n",
      "url= : https://www.president.go.kr/584558\n",
      "url= : https://www.president.go.kr/584559\n",
      "url= : https://www.president.go.kr/584560\n",
      "url= : https://www.president.go.kr/584561\n",
      "url= : https://www.president.go.kr/584562\n",
      "url= : https://www.president.go.kr/584563\n",
      "url= : https://www.president.go.kr/584564\n",
      "url= : https://www.president.go.kr/584565\n",
      "url= : https://www.president.go.kr/584566\n",
      "url= : https://www.president.go.kr/584567\n",
      "url= : https://www.president.go.kr/584568\n",
      "url= : https://www.president.go.kr/584569\n",
      "url= : https://www.president.go.kr/584570\n",
      "url= : https://www.president.go.kr/584571\n",
      "url= : https://www.president.go.kr/584572\n",
      "url= : https://www.president.go.kr/584573\n",
      "url= : https://www.president.go.kr/584574\n",
      "url= : https://www.president.go.kr/584575\n",
      "url= : https://www.president.go.kr/584576\n",
      "url= : https://www.president.go.kr/584577\n",
      "url= : https://www.president.go.kr/584578\n",
      "url= : https://www.president.go.kr/584579\n",
      "url= : https://www.president.go.kr/584580\n"
     ]
    }
   ],
   "source": [
    "import pandas as pd\n",
    "import numpy as np\n",
    "import requests\n",
    "from bs4 import BeautifulSoup \n",
    "import time\n",
    "\n",
    "\n",
    "result = pd.DataFrame()                                    \n",
    "\n",
    "for i in range(584274, 595226):\n",
    "    URL = \"https://www.president.go.kr/\"+str(i)\n",
    "    print('url= :', URL)\n",
    " \n",
    "    response = requests.get(URL)    \n",
    "    html = response.text                                   \n",
    "    soup = BeautifulSoup(html, 'html.parser')           \n",
    "\n",
    "    title = soup.find('h3', class_='petitionsView_title')\n",
    "    count = soup.find('span', class_='counter')           \n",
    "\n",
    "    for content in soup.select('div.petitionsView_write > div.View_write'):\n",
    "        content                                         \n",
    "\n",
    "    a=[]\n",
    "    for tag in soup.select('ul.petitionsView_info_list > li'): \n",
    "        a.append(tag.contents[1])\n",
    "\n",
    "    if len(a) != 0:\n",
    "        df1=pd.DataFrame({ 'start' : [a[1]],                \n",
    "                           'end' : [a[2]],                     \n",
    "                           'category' :  [a[0]],               \n",
    "                           'count' : [count.text],             \n",
    "                           'title': [title.text],              \n",
    "                           'content': [content.text.strip()[0:13000]]                              \n",
    "                         })\n",
    "\n",
    "        result=pd.concat([result, df1])                        \n",
    "        result.index = np.arange(len(result))             \n",
    "\n",
    "    if i % 60 == 0:                                        \n",
    "        print(\"Sleep 90seconds. Count:\" + str(i)           \n",
    "              +\",  Local Time:\"+ time.strftime('%Y-%m-%d', time.localtime(time.time()))\n",
    "              +\" \"+ time.strftime('%X', time.localtime(time.time()))\n",
    "              +\",  Data Length:\"+ str(len(result)))        \n",
    "        time.sleep(90) "
   ]
  },
  {
   "cell_type": "markdown",
   "metadata": {},
   "source": [
    "[크롤링 데이터 확인]"
   ]
  },
  {
   "cell_type": "code",
   "execution_count": null,
   "metadata": {},
   "outputs": [],
   "source": [
    "print(result.shape)\n",
    "\n",
    "df = result\n",
    "df.head()"
   ]
  },
  {
   "cell_type": "markdown",
   "metadata": {},
   "source": [
    "[데이터 엑셀로 저장]"
   ]
  },
  {
   "cell_type": "code",
   "execution_count": null,
   "metadata": {},
   "outputs": [],
   "source": [
    "df.to_csv('data/crawling.csv', index = False, encoding = 'utf-8-sig')"
   ]
  },
  {
   "cell_type": "markdown",
   "metadata": {},
   "source": [
    "# 2.2 데이터 전처리"
   ]
  },
  {
   "cell_type": "code",
   "execution_count": null,
   "metadata": {},
   "outputs": [],
   "source": [
    "df.loc[1]['content']  # 전처리 전"
   ]
  },
  {
   "cell_type": "markdown",
   "metadata": {},
   "source": [
    "[전처리]"
   ]
  },
  {
   "cell_type": "code",
   "execution_count": null,
   "metadata": {},
   "outputs": [],
   "source": [
    "import re\n",
    "\n",
    "def remove_white_space(text):\n",
    "    text = re.sub(r'[\\t\\r\\n\\f\\v]', ' ', str(text))\n",
    "    return text\n",
    "\n",
    "def remove_special_char(text):\n",
    "    text = re.sub('[^ ㄱ-ㅣ가-힣 0-9]+', ' ', str(text))\n",
    "    return text\n",
    "\n",
    "df.title = df.title.apply(remove_white_space)\n",
    "df.title = df.title.apply(remove_special_char)\n",
    "\n",
    "df.content = df.content.apply(remove_white_space)\n",
    "df.content = df.content.apply(remove_special_char)"
   ]
  },
  {
   "cell_type": "code",
   "execution_count": null,
   "metadata": {},
   "outputs": [],
   "source": [
    "df.loc[1]['content']  # 전처리 후"
   ]
  },
  {
   "cell_type": "markdown",
   "metadata": {},
   "source": [
    "# 2.3 토크나이징 및 변수 생성"
   ]
  },
  {
   "cell_type": "markdown",
   "metadata": {},
   "source": [
    "[토크나이징]"
   ]
  },
  {
   "cell_type": "code",
   "execution_count": null,
   "metadata": {},
   "outputs": [],
   "source": [
    "from konlpy.tag import Okt\n",
    "\n",
    "okt = Okt()\n",
    "\n",
    "df['title_token'] = df.title.apply(okt.morphs)\n",
    "df['content_token'] = df.content.apply(okt.nouns)"
   ]
  },
  {
   "cell_type": "markdown",
   "metadata": {},
   "source": [
    "[파생변수 생성]"
   ]
  },
  {
   "cell_type": "code",
   "execution_count": null,
   "metadata": {},
   "outputs": [],
   "source": [
    "df['token_final'] = df.title_token + df.content_token\n",
    "\n",
    "df['count'] = df['count'].replace({',' : ''}, regex = True).apply(lambda x : int(x))\n",
    "\n",
    "print(df.dtypes)\n",
    "\n",
    "df['label'] = df['count'].apply(lambda x: 'Yes' if x>=1000 else 'No')"
   ]
  },
  {
   "cell_type": "code",
   "execution_count": null,
   "metadata": {},
   "outputs": [],
   "source": [
    "df_drop = df[['token_final', 'label']]"
   ]
  },
  {
   "cell_type": "code",
   "execution_count": null,
   "metadata": {},
   "outputs": [],
   "source": [
    "df_drop.head()"
   ]
  },
  {
   "cell_type": "markdown",
   "metadata": {},
   "source": [
    "[데이터 엑셀로 저장]"
   ]
  },
  {
   "cell_type": "code",
   "execution_count": null,
   "metadata": {},
   "outputs": [],
   "source": [
    "df_drop.to_csv('data/df_drop.csv', index = False, encoding = 'utf-8-sig')"
   ]
  },
  {
   "cell_type": "markdown",
   "metadata": {},
   "source": [
    "# 2.4 단어 임베딩"
   ]
  },
  {
   "cell_type": "markdown",
   "metadata": {},
   "source": [
    "[단어 임베딩]"
   ]
  },
  {
   "cell_type": "code",
   "execution_count": null,
   "metadata": {},
   "outputs": [],
   "source": [
    "from gensim.models import Word2Vec\n",
    "\n",
    "embedding_model = Word2Vec(df_drop['token_final'], \n",
    "                           sg = 1, # skip-gram\n",
    "                           size = 100, \n",
    "                           window = 2, \n",
    "                           min_count = 1, \n",
    "                           workers = 4\n",
    "                           )\n",
    "\n",
    "print(embedding_model)\n",
    "\n",
    "model_result = embedding_model.wv.most_similar(\"음주운전\")\n",
    "print(model_result)"
   ]
  },
  {
   "cell_type": "markdown",
   "metadata": {},
   "source": [
    "[임베딩 모델 저장 및 로드]"
   ]
  },
  {
   "cell_type": "code",
   "execution_count": null,
   "metadata": {},
   "outputs": [],
   "source": [
    "from gensim.models import KeyedVectors\n",
    "\n",
    "embedding_model.wv.save_word2vec_format('data/petitions_tokens_w2v') # 모델 저장\n",
    "loaded_model = KeyedVectors.load_word2vec_format('data/petitions_tokens_w2v') # 모델 로드\n",
    "\n",
    "model_result = loaded_model.most_similar(\"음주운전\")\n",
    "print(model_result)"
   ]
  },
  {
   "cell_type": "markdown",
   "metadata": {},
   "source": [
    "# 2.5 실험 설계"
   ]
  },
  {
   "cell_type": "markdown",
   "metadata": {},
   "source": [
    "[데이터셋 분할 및 저장]"
   ]
  },
  {
   "cell_type": "code",
   "execution_count": null,
   "metadata": {},
   "outputs": [],
   "source": [
    "from numpy.random import RandomState\n",
    "\n",
    "rng = RandomState()\n",
    "\n",
    "tr = df_drop.sample(frac=0.8, random_state=rng)\n",
    "val = df_drop.loc[~df_drop.index.isin(tr.index)]\n",
    "\n",
    "tr.to_csv('data/train.csv', index=False, encoding='utf-8-sig')\n",
    "val.to_csv('data/validation.csv', index=False, encoding='utf-8-sig')"
   ]
  },
  {
   "cell_type": "markdown",
   "metadata": {},
   "source": [
    "[Field클래스 정의]"
   ]
  },
  {
   "cell_type": "code",
   "execution_count": null,
   "metadata": {},
   "outputs": [],
   "source": [
    "import torchtext\n",
    "from torchtext.data import Field\n",
    "\n",
    "def tokenizer(text):\n",
    "    text = re.sub('[\\[\\]\\']', '', str(text))\n",
    "    text = text.split(', ')\n",
    "    return text\n",
    "\n",
    "TEXT = Field(tokenize=tokenizer)\n",
    "LABEL = Field(sequential = False)"
   ]
  },
  {
   "cell_type": "markdown",
   "metadata": {},
   "source": [
    "[데이터 불러오기]"
   ]
  },
  {
   "cell_type": "code",
   "execution_count": null,
   "metadata": {},
   "outputs": [],
   "source": [
    "from torchtext.data import TabularDataset\n",
    "\n",
    "train, validation = TabularDataset.splits(\n",
    "    path = 'data/',\n",
    "    train = 'train.csv',\n",
    "    validation = 'validation.csv',\n",
    "    format = 'csv',\n",
    "    fields = [('text', TEXT), ('label', LABEL)],\n",
    "    skip_header = True\n",
    ")\n",
    "\n",
    "print(\"Train:\", train[0].text,  train[0].label)\n",
    "print(\"Validation:\", validation[0].text, validation[0].label)"
   ]
  },
  {
   "cell_type": "markdown",
   "metadata": {},
   "source": [
    "[단어장 및 DataLoader 정의]"
   ]
  },
  {
   "cell_type": "code",
   "execution_count": null,
   "metadata": {},
   "outputs": [],
   "source": [
    "import torch\n",
    "from torchtext.vocab import Vectors\n",
    "from torchtext.data import BucketIterator\n",
    "\n",
    "vectors = Vectors(name=\"data/petitions_tokens_w2v\")\n",
    "\n",
    "TEXT.build_vocab(train, vectors = vectors, min_freq = 1, max_size = None)\n",
    "LABEL.build_vocab(train)\n",
    "\n",
    "vocab = TEXT.vocab\n",
    "\n",
    "device = torch.device(\"cuda\" if torch.cuda.is_available() else \"cpu\")\n",
    "\n",
    "train_iter, validation_iter = BucketIterator.splits(\n",
    "    datasets = (train, validation),\n",
    "    batch_size = 8,\n",
    "    device = device,\n",
    "    sort = False\n",
    ")\n",
    "\n",
    "print('임베딩 벡터의 개수와 차원 : {} '.format(TEXT.vocab.vectors.shape))"
   ]
  },
  {
   "cell_type": "markdown",
   "metadata": {},
   "source": [
    "# 2.6 TextCNN"
   ]
  },
  {
   "cell_type": "markdown",
   "metadata": {},
   "source": [
    "[TextCNN 모델링]"
   ]
  },
  {
   "cell_type": "code",
   "execution_count": null,
   "metadata": {},
   "outputs": [],
   "source": [
    "import torch.nn as nn   \n",
    "import torch.optim as optim \n",
    "import torch.nn.functional as F \n",
    "\n",
    "class TextCNN(nn.Module): \n",
    "    \n",
    "    def __init__(self, vocab_built, emb_dim, dim_channel, kernel_wins, num_class):\n",
    "        \n",
    "        super(TextCNN, self).__init__()\n",
    "        \n",
    "        self.embed = nn.Embedding(len(vocab_built), emb_dim)\n",
    "        self.embed.weight.data.copy_(vocab_built.vectors)      \n",
    "    \n",
    "        self.convs = nn.ModuleList([nn.Conv2d(1, dim_channel, (w, emb_dim)) for w in kernel_wins])\n",
    "        self.relu = nn.ReLU()                \n",
    "        self.dropout = nn.Dropout(0.4)         \n",
    "        self.fc = nn.Linear(len(kernel_wins)*dim_channel, num_class)     \n",
    "        \n",
    "    def forward(self, x):  \n",
    "      \n",
    "        emb_x = self.embed(x)           \n",
    "        emb_x = emb_x.unsqueeze(1)  \n",
    "\n",
    "        con_x = [self.relu(conv(emb_x)) for conv in self.convs]       \n",
    "\n",
    "        pool_x = [F.max_pool1d(x.squeeze(-1), x.size()[2]) for x in con_x]    \n",
    "        \n",
    "        fc_x = torch.cat(pool_x, dim=1) \n",
    "        fc_x = fc_x.squeeze(-1)       \n",
    "        fc_x = self.dropout(fc_x)         \n",
    "\n",
    "        logit = self.fc(fc_x)     \n",
    "        \n",
    "        return logit"
   ]
  },
  {
   "cell_type": "markdown",
   "metadata": {},
   "source": [
    "[모델 학습 함수 정의]"
   ]
  },
  {
   "cell_type": "code",
   "execution_count": null,
   "metadata": {},
   "outputs": [],
   "source": [
    "def train(model, device, train_itr, optimizer):\n",
    "    \n",
    "    model.train()                               \n",
    "    corrects, train_loss = 0.0,0        \n",
    "    \n",
    "    for batch in train_itr:\n",
    "        \n",
    "        text, target = batch.text, batch.label      \n",
    "        text = torch.transpose(text, 0, 1)          \n",
    "        target.data.sub_(1)                                 \n",
    "        text, target = text.to(device), target.to(device)  \n",
    "\n",
    "        optimizer.zero_grad()                           \n",
    "        logit = model(text)                         \n",
    "    \n",
    "        loss = F.cross_entropy(logit, target)   \n",
    "        loss.backward()  \n",
    "        optimizer.step()  \n",
    "        \n",
    "        train_loss += loss.item()    \n",
    "        result = torch.max(logit,1)[1] \n",
    "        corrects += (result.view(target.size()).data == target.data).sum()\n",
    "        \n",
    "    train_loss /= len(train_itr.dataset)\n",
    "    accuracy = 100.0 * corrects / len(train_itr.dataset)\n",
    "\n",
    "    return train_loss, accuracy"
   ]
  },
  {
   "cell_type": "markdown",
   "metadata": {},
   "source": [
    "[모델 평가 함수 정의]"
   ]
  },
  {
   "cell_type": "code",
   "execution_count": null,
   "metadata": {},
   "outputs": [],
   "source": [
    "def evaluate(model, device, itr):\n",
    "    \n",
    "    model.eval()\n",
    "    corrects, test_loss = 0.0, 0\n",
    "\n",
    "    for batch in itr:\n",
    "        \n",
    "        text = batch.text\n",
    "        target = batch.label\n",
    "        text = torch.transpose(text, 0, 1)\n",
    "        target.data.sub_(1)\n",
    "        text, target = text.to(device), target.to(device)\n",
    "        \n",
    "        logit = model(text)\n",
    "        loss = F.cross_entropy(logit, target)\n",
    "\n",
    "        test_loss += loss.item()\n",
    "        result = torch.max(logit,1)[1]\n",
    "        corrects += (result.view(target.size()).data == target.data).sum()\n",
    "\n",
    "    test_loss /= len(itr.dataset) \n",
    "    accuracy = 100.0 * corrects / len(itr.dataset)\n",
    "    \n",
    "    return test_loss, accuracy"
   ]
  },
  {
   "cell_type": "markdown",
   "metadata": {},
   "source": [
    "[모델 학습 및 성능 확인]"
   ]
  },
  {
   "cell_type": "code",
   "execution_count": null,
   "metadata": {},
   "outputs": [],
   "source": [
    "model = TextCNN(vocab, 100, 10, [3, 4, 5], 2).to(device)\n",
    "print(model)\n",
    "\n",
    "device = torch.device(\"cuda\" if torch.cuda.is_available() else \"cpu\")\n",
    "\n",
    "optimizer = optim.Adam(model.parameters(), lr=0.001)\n",
    "\n",
    "best_test_acc = -1\n",
    "\n",
    "for epoch in range(1, 3+1):\n",
    " \n",
    "    tr_loss, tr_acc = train(model, device, train_iter, optimizer) \n",
    "    print('Train Epoch: {} \\t Loss: {} \\t Accuracy: {}%'.format(epoch, tr_loss, tr_acc))\n",
    "    \n",
    "    val_loss, val_acc = evaluate(model, device, validation_iter)\n",
    "    print('Valid Epoch: {} \\t Loss: {} \\t Accuracy: {}%'.format(epoch, val_loss, val_acc))\n",
    "        \n",
    "    if val_acc > best_test_acc:\n",
    "        best_test_acc = val_acc\n",
    "        \n",
    "        print(\"model saves at {} accuracy\".format(best_test_acc))\n",
    "        torch.save(model.state_dict(), \"TextCNN_Best_Validation\")\n",
    "    \n",
    "    print('-----------------------------------------------------------------------------')"
   ]
  }
 ],
 "metadata": {
  "kernelspec": {
   "display_name": "Python 3 (ipykernel)",
   "language": "python",
   "name": "python3"
  },
  "language_info": {
   "codemirror_mode": {
    "name": "ipython",
    "version": 3
   },
   "file_extension": ".py",
   "mimetype": "text/x-python",
   "name": "python",
   "nbconvert_exporter": "python",
   "pygments_lexer": "ipython3",
   "version": "3.9.12"
  }
 },
 "nbformat": 4,
 "nbformat_minor": 2
}
